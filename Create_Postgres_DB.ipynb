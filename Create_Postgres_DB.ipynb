{
 "cells": [
  {
   "cell_type": "markdown",
   "metadata": {},
   "source": [
    "## Load Dependancies"
   ]
  },
  {
   "cell_type": "code",
   "execution_count": 1,
   "metadata": {
    "scrolled": true
   },
   "outputs": [],
   "source": [
    "import geopandas as gpd\n",
    "from sqlalchemy import create_engine, text\n",
    "from sqlalchemy_utils import create_database, database_exists, drop_database\n",
    "import pandas as pd\n",
    "import sqlalchemy"
   ]
  },
  {
   "cell_type": "markdown",
   "metadata": {},
   "source": [
    "## Connect to Postgres DB"
   ]
  },
  {
   "cell_type": "code",
   "execution_count": 2,
   "metadata": {},
   "outputs": [],
   "source": [
    "#Variables\n",
    "db_type = \"postgresql\" #postgresql\n",
    "username = \"postgres\"\n",
    "password = \"pass\"\n",
    "host = \"localhost\"\n",
    "port = \"5432\"\n",
    "db_name = \"coviddistribution\"\n",
    "\n",
    "#Put it together\n",
    "engine = create_engine(f\"{db_type}://{username}:{password}@{host}:{port}/{db_name}\")"
   ]
  },
  {
   "cell_type": "code",
   "execution_count": 3,
   "metadata": {},
   "outputs": [
    {
     "data": {
      "text/plain": [
       "['spatial_ref_sys',\n",
       " 'uscounties',\n",
       " 'vaccine_locations',\n",
       " 'covid_cases',\n",
       " 'vaccination_county',\n",
       " 'demographics_county']"
      ]
     },
     "execution_count": 3,
     "metadata": {},
     "output_type": "execute_result"
    }
   ],
   "source": [
    "inspector = sqlalchemy.inspect(engine)\n",
    "inspector.get_table_names() #We see that our table was added to our database"
   ]
  },
  {
   "cell_type": "markdown",
   "metadata": {},
   "source": [
    "## Load Data"
   ]
  },
  {
   "cell_type": "code",
   "execution_count": 4,
   "metadata": {},
   "outputs": [],
   "source": [
    "uscounties = gpd.read_file(\"data/UScounties/UScounties.shp\")\n",
    "airports = gpd.read_file(\"data/airports/airports.shp\")\n",
    "vaccine_locs = gpd.read_file(\"data/vaccine_locations/vaccine_locations.shp\")\n",
    "\n",
    "covid_cases = pd.read_csv(\"data/covid_cases_october.csv\")\n",
    "vacc_rate = pd.read_csv(\"data/vaccination_rate_by_county.csv\")\n",
    "minmaj = pd.read_csv(\"data/population_minmaj_county.csv\")"
   ]
  },
  {
   "cell_type": "markdown",
   "metadata": {},
   "source": [
    "### Minor Cleaning"
   ]
  },
  {
   "cell_type": "code",
   "execution_count": 5,
   "metadata": {},
   "outputs": [],
   "source": [
    "airports.columns = [\"icao\",\"name\",\"elevation_ft\",\"state\",\"state_fips\",\"scheduled\",\"keywords\",\"is_military\",\"geometry\"]\n",
    "\n",
    "covid_cases = covid_cases[covid_cases.columns[1:]]\n",
    "vacc_rate = vacc_rate[vacc_rate.columns[1:]]\n",
    "minmaj = minmaj[minmaj.columns[1:]]"
   ]
  },
  {
   "cell_type": "markdown",
   "metadata": {},
   "source": [
    "## Write Tables to DB"
   ]
  },
  {
   "cell_type": "code",
   "execution_count": 6,
   "metadata": {},
   "outputs": [],
   "source": [
    "tables_to_write = {\n",
    "                   \"uscounties\":uscounties,\n",
    "                   \"airports\":airports,\n",
    "                   \"vaccine_locations\":vaccine_locs,\n",
    "                   \"covid_cases\":covid_cases,\n",
    "                   \"vaccination_county\":vacc_rate,\n",
    "                   \"demographics_county\":minmaj\n",
    "                  }"
   ]
  },
  {
   "cell_type": "code",
   "execution_count": 7,
   "metadata": {},
   "outputs": [],
   "source": [
    "inspector = sqlalchemy.inspect(engine)\n",
    "existing_tables = inspector.get_table_names()\n",
    "for table_name,table in tables_to_write.items():\n",
    "    if (table_name not in existing_tables):\n",
    "        if (type(table)==gpd.GeoDataFrame):\n",
    "            table.to_postgis(name=table_name, con=engine)\n",
    "        else:\n",
    "            table.to_sql(name=table_name,con=engine)"
   ]
  },
  {
   "cell_type": "code",
   "execution_count": 8,
   "metadata": {},
   "outputs": [
    {
     "data": {
      "text/plain": [
       "['spatial_ref_sys',\n",
       " 'uscounties',\n",
       " 'vaccine_locations',\n",
       " 'airports',\n",
       " 'covid_cases',\n",
       " 'vaccination_county',\n",
       " 'demographics_county']"
      ]
     },
     "execution_count": 8,
     "metadata": {},
     "output_type": "execute_result"
    }
   ],
   "source": [
    "inspector = sqlalchemy.inspect(engine)\n",
    "inspector.get_table_names() #We see that our table was added to our database"
   ]
  },
  {
   "cell_type": "markdown",
   "metadata": {},
   "source": [
    "## Test"
   ]
  },
  {
   "cell_type": "code",
   "execution_count": 9,
   "metadata": {},
   "outputs": [],
   "source": [
    "#SQL query\n",
    "sql = \"\"\"\n",
    "SELECT\n",
    "    airports.icao,\n",
    "    vaccine_locations.\"SiteID\" as siteid,\n",
    "    ST_Distance(airports.geometry,vaccine_locations.geometry) as dist,\n",
    "    airports.geometry AS airport_geom,\n",
    "    vaccine_locations.geometry as geometry\n",
    "FROM \n",
    "    airports\n",
    "INNER JOIN\n",
    "    vaccine_locations ON\n",
    "    airports.state_fips=vaccine_locations.\"STATE_FIPS\"\n",
    "WHERE \n",
    "    vaccine_locations.\"NAME\"='Santa Clara' AND\n",
    "    vaccine_locations.\"STATE_NAME\"='California'\n",
    "ORDER BY\n",
    "    icao ASC,\n",
    "    dist ASC\n",
    "\"\"\"\n",
    "\n",
    "#Specify name of column which stores our geometry! In table `streets_chapter_11`, the geometry is stored in a col called `geometry`\n",
    "geom_col = \"geometry\"\n",
    "\n",
    "#Execute query to create GeoDataFrame\n",
    "ap = gpd.GeoDataFrame.from_postgis(sql=sql, con=engine, geom_col=geom_col)"
   ]
  },
  {
   "cell_type": "code",
   "execution_count": 10,
   "metadata": {},
   "outputs": [
    {
     "data": {
      "text/html": [
       "<div>\n",
       "<style scoped>\n",
       "    .dataframe tbody tr th:only-of-type {\n",
       "        vertical-align: middle;\n",
       "    }\n",
       "\n",
       "    .dataframe tbody tr th {\n",
       "        vertical-align: top;\n",
       "    }\n",
       "\n",
       "    .dataframe thead th {\n",
       "        text-align: right;\n",
       "    }\n",
       "</style>\n",
       "<table border=\"1\" class=\"dataframe\">\n",
       "  <thead>\n",
       "    <tr style=\"text-align: right;\">\n",
       "      <th></th>\n",
       "      <th>icao</th>\n",
       "      <th>siteid</th>\n",
       "      <th>dist</th>\n",
       "      <th>airport_geom</th>\n",
       "      <th>geometry</th>\n",
       "    </tr>\n",
       "  </thead>\n",
       "  <tbody>\n",
       "    <tr>\n",
       "      <th>0</th>\n",
       "      <td>KBAB</td>\n",
       "      <td>5372</td>\n",
       "      <td>1.764765</td>\n",
       "      <td>0101000020E6100000BD0A00C0F75B5EC061E8FFBF6B91...</td>\n",
       "      <td>POINT (-121.90178 37.43364)</td>\n",
       "    </tr>\n",
       "    <tr>\n",
       "      <th>1</th>\n",
       "      <td>KBAB</td>\n",
       "      <td>5372</td>\n",
       "      <td>1.764765</td>\n",
       "      <td>0101000020E6100000BD0A00C0F75B5EC061E8FFBF6B91...</td>\n",
       "      <td>POINT (-121.90178 37.43364)</td>\n",
       "    </tr>\n",
       "    <tr>\n",
       "      <th>2</th>\n",
       "      <td>KBAB</td>\n",
       "      <td>5364</td>\n",
       "      <td>1.796271</td>\n",
       "      <td>0101000020E6100000BD0A00C0F75B5EC061E8FFBF6B91...</td>\n",
       "      <td>POINT (-121.94675 37.41368)</td>\n",
       "    </tr>\n",
       "    <tr>\n",
       "      <th>3</th>\n",
       "      <td>KBAB</td>\n",
       "      <td>5364</td>\n",
       "      <td>1.796271</td>\n",
       "      <td>0101000020E6100000BD0A00C0F75B5EC061E8FFBF6B91...</td>\n",
       "      <td>POINT (-121.94675 37.41368)</td>\n",
       "    </tr>\n",
       "    <tr>\n",
       "      <th>4</th>\n",
       "      <td>KBAB</td>\n",
       "      <td>5367</td>\n",
       "      <td>1.796724</td>\n",
       "      <td>0101000020E6100000BD0A00C0F75B5EC061E8FFBF6B91...</td>\n",
       "      <td>POINT (-121.95437 37.41548)</td>\n",
       "    </tr>\n",
       "    <tr>\n",
       "      <th>...</th>\n",
       "      <td>...</td>\n",
       "      <td>...</td>\n",
       "      <td>...</td>\n",
       "      <td>...</td>\n",
       "      <td>...</td>\n",
       "    </tr>\n",
       "    <tr>\n",
       "      <th>1183</th>\n",
       "      <td>KVBG</td>\n",
       "      <td>5358</td>\n",
       "      <td>3.073221</td>\n",
       "      <td>0101000020E6100000FB39004060255EC07FFEFFDF5F5E...</td>\n",
       "      <td>POINT (-122.11441 37.40236)</td>\n",
       "    </tr>\n",
       "    <tr>\n",
       "      <th>1184</th>\n",
       "      <td>KVBG</td>\n",
       "      <td>5373</td>\n",
       "      <td>3.107657</td>\n",
       "      <td>0101000020E6100000FB39004060255EC07FFEFFDF5F5E...</td>\n",
       "      <td>POINT (-122.12905 37.43366)</td>\n",
       "    </tr>\n",
       "    <tr>\n",
       "      <th>1185</th>\n",
       "      <td>KVBG</td>\n",
       "      <td>5373</td>\n",
       "      <td>3.107657</td>\n",
       "      <td>0101000020E6100000FB39004060255EC07FFEFFDF5F5E...</td>\n",
       "      <td>POINT (-122.12905 37.43366)</td>\n",
       "    </tr>\n",
       "    <tr>\n",
       "      <th>1186</th>\n",
       "      <td>KVBG</td>\n",
       "      <td>5375</td>\n",
       "      <td>3.127454</td>\n",
       "      <td>0101000020E6100000FB39004060255EC07FFEFFDF5F5E...</td>\n",
       "      <td>POINT (-122.15864 37.43942)</td>\n",
       "    </tr>\n",
       "    <tr>\n",
       "      <th>1187</th>\n",
       "      <td>KVBG</td>\n",
       "      <td>5375</td>\n",
       "      <td>3.127454</td>\n",
       "      <td>0101000020E6100000FB39004060255EC07FFEFFDF5F5E...</td>\n",
       "      <td>POINT (-122.15864 37.43942)</td>\n",
       "    </tr>\n",
       "  </tbody>\n",
       "</table>\n",
       "<p>1188 rows × 5 columns</p>\n",
       "</div>"
      ],
      "text/plain": [
       "      icao  siteid      dist  \\\n",
       "0     KBAB    5372  1.764765   \n",
       "1     KBAB    5372  1.764765   \n",
       "2     KBAB    5364  1.796271   \n",
       "3     KBAB    5364  1.796271   \n",
       "4     KBAB    5367  1.796724   \n",
       "...    ...     ...       ...   \n",
       "1183  KVBG    5358  3.073221   \n",
       "1184  KVBG    5373  3.107657   \n",
       "1185  KVBG    5373  3.107657   \n",
       "1186  KVBG    5375  3.127454   \n",
       "1187  KVBG    5375  3.127454   \n",
       "\n",
       "                                           airport_geom  \\\n",
       "0     0101000020E6100000BD0A00C0F75B5EC061E8FFBF6B91...   \n",
       "1     0101000020E6100000BD0A00C0F75B5EC061E8FFBF6B91...   \n",
       "2     0101000020E6100000BD0A00C0F75B5EC061E8FFBF6B91...   \n",
       "3     0101000020E6100000BD0A00C0F75B5EC061E8FFBF6B91...   \n",
       "4     0101000020E6100000BD0A00C0F75B5EC061E8FFBF6B91...   \n",
       "...                                                 ...   \n",
       "1183  0101000020E6100000FB39004060255EC07FFEFFDF5F5E...   \n",
       "1184  0101000020E6100000FB39004060255EC07FFEFFDF5F5E...   \n",
       "1185  0101000020E6100000FB39004060255EC07FFEFFDF5F5E...   \n",
       "1186  0101000020E6100000FB39004060255EC07FFEFFDF5F5E...   \n",
       "1187  0101000020E6100000FB39004060255EC07FFEFFDF5F5E...   \n",
       "\n",
       "                         geometry  \n",
       "0     POINT (-121.90178 37.43364)  \n",
       "1     POINT (-121.90178 37.43364)  \n",
       "2     POINT (-121.94675 37.41368)  \n",
       "3     POINT (-121.94675 37.41368)  \n",
       "4     POINT (-121.95437 37.41548)  \n",
       "...                           ...  \n",
       "1183  POINT (-122.11441 37.40236)  \n",
       "1184  POINT (-122.12905 37.43366)  \n",
       "1185  POINT (-122.12905 37.43366)  \n",
       "1186  POINT (-122.15864 37.43942)  \n",
       "1187  POINT (-122.15864 37.43942)  \n",
       "\n",
       "[1188 rows x 5 columns]"
      ]
     },
     "execution_count": 10,
     "metadata": {},
     "output_type": "execute_result"
    }
   ],
   "source": [
    "ap"
   ]
  },
  {
   "cell_type": "code",
   "execution_count": null,
   "metadata": {},
   "outputs": [],
   "source": []
  }
 ],
 "metadata": {
  "kernelspec": {
   "display_name": "Python 3",
   "language": "python",
   "name": "python3"
  },
  "language_info": {
   "codemirror_mode": {
    "name": "ipython",
    "version": 3
   },
   "file_extension": ".py",
   "mimetype": "text/x-python",
   "name": "python",
   "nbconvert_exporter": "python",
   "pygments_lexer": "ipython3",
   "version": "3.7.2"
  }
 },
 "nbformat": 4,
 "nbformat_minor": 2
}
